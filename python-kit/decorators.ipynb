{
 "cells": [
  {
   "cell_type": "code",
   "execution_count": 2,
   "metadata": {},
   "outputs": [
    {
     "name": "stdout",
     "output_type": "stream",
     "text": [
      "Before function call\n",
      "Hello!\n",
      "After function call\n"
     ]
    }
   ],
   "source": [
    "# Define a simple decorator\n",
    "def my_decorator(func):\n",
    "    def wrapper():\n",
    "        print(\"Before function call\")  # Code to run before the function\n",
    "        func()  # Call the original function\n",
    "        print(\"After function call\")  # Code to run after the function\n",
    "    return wrapper\n",
    "\n",
    "# Use the decorator\n",
    "@my_decorator\n",
    "def say_hello():\n",
    "    print(\"Hello!\")\n",
    "\n",
    "# Call the decorated function\n",
    "say_hello()\n"
   ]
  },
  {
   "cell_type": "code",
   "execution_count": 3,
   "metadata": {},
   "outputs": [
    {
     "name": "stdout",
     "output_type": "stream",
     "text": [
      "Before function call\n",
      "Hello, Alice!\n",
      "After function call\n"
     ]
    }
   ],
   "source": [
    "# Define a decorator that can handle any arguments\n",
    "def my_decorator(func):\n",
    "    def wrapper(*args, **kwargs): # Holds the arguments of the function passed\n",
    "        print(\"Before function call\")  \n",
    "        func(*args, **kwargs)  # Pass the received arguments to the original function\n",
    "        print(\"After function call\")\n",
    "    return wrapper\n",
    "\n",
    "# Use the decorator\n",
    "@my_decorator\n",
    "def greet(name):\n",
    "    print(f\"Hello, {name}!\")\n",
    "\n",
    "# Call the decorated function with arguments\n",
    "greet(\"Alice\")\n"
   ]
  },
  {
   "cell_type": "code",
   "execution_count": 4,
   "metadata": {},
   "outputs": [
    {
     "name": "stdout",
     "output_type": "stream",
     "text": [
      "Hello!\n",
      "Hello!\n",
      "Hello!\n"
     ]
    }
   ],
   "source": [
    "# First layer accepts arguments for the decorator\n",
    "def repeat(n):                  # First layer (decorator arguments)\n",
    "    def decorator(func):        # Second layer (function to decorate)\n",
    "        def wrapper():          # Third layer (function arguments)\n",
    "            for _ in range(n):  # Repeat the function call 'n' times\n",
    "                func()\n",
    "        return wrapper\n",
    "    return decorator\n",
    "\n",
    "# Use the decorator with an argument\n",
    "@repeat(3)\n",
    "def say_hello():\n",
    "    print(\"Hello!\")\n",
    "\n",
    "# Call the decorated function\n",
    "say_hello()\n"
   ]
  },
  {
   "cell_type": "code",
   "execution_count": 5,
   "metadata": {},
   "outputs": [
    {
     "name": "stdout",
     "output_type": "stream",
     "text": [
      "Hello, Alice!\n",
      "Hello, Alice!\n"
     ]
    }
   ],
   "source": [
    "# First layer to accept arguments for the decorator\n",
    "def repeat(n):\n",
    "    def decorator(func):\n",
    "        def wrapper(*args, **kwargs):\n",
    "            for _ in range(n):  # Repeat the function call 'n' times\n",
    "                func(*args, **kwargs)  # Pass through all arguments\n",
    "        return wrapper\n",
    "    return decorator\n",
    "\n",
    "# Use the decorator with an argument\n",
    "@repeat(2)\n",
    "def greet(name):\n",
    "    print(f\"Hello, {name}!\")\n",
    "\n",
    "# Call the decorated function with an argument\n",
    "greet(\"Alice\")"
   ]
  },
  {
   "cell_type": "code",
   "execution_count": null,
   "metadata": {},
   "outputs": [],
   "source": []
  }
 ],
 "metadata": {
  "kernelspec": {
   "display_name": "Python 3",
   "language": "python",
   "name": "python3"
  },
  "language_info": {
   "codemirror_mode": {
    "name": "ipython",
    "version": 3
   },
   "file_extension": ".py",
   "mimetype": "text/x-python",
   "name": "python",
   "nbconvert_exporter": "python",
   "pygments_lexer": "ipython3",
   "version": "3.13.0"
  }
 },
 "nbformat": 4,
 "nbformat_minor": 2
}
