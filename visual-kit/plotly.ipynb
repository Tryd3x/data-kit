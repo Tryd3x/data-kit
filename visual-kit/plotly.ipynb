{
 "cells": [
  {
   "cell_type": "code",
   "execution_count": null,
   "metadata": {},
   "outputs": [],
   "source": [
    "import pandas as pd\n",
    "import numpy as np\n",
    "import chart_studio.plotly as py\n",
    "import cufflinks as cf\n",
    "import seaborn as sns\n",
    "import plotly.express as px\n",
    "\n",
    "\n",
    "from plotly.offline import download_plotlyjs, init_notebook_mode\n",
    "\n",
    "init_notebook_mode(connected=True)\n",
    "cf.go_offline()"
   ]
  },
  {
   "cell_type": "markdown",
   "metadata": {},
   "source": [
    "### **Basics**"
   ]
  },
  {
   "cell_type": "code",
   "execution_count": null,
   "metadata": {},
   "outputs": [],
   "source": [
    "arr_1 = np.random.randn(50,4)\n",
    "df_1 = pd.DataFrame(arr_1, columns=['A','B','C','D'])\n",
    "px.line(df_1)"
   ]
  },
  {
   "cell_type": "markdown",
   "metadata": {},
   "source": [
    "### **Line Plots**"
   ]
  },
  {
   "cell_type": "markdown",
   "metadata": {},
   "source": [
    "**Basics** - gives you the basic needs to display information"
   ]
  },
  {
   "cell_type": "code",
   "execution_count": null,
   "metadata": {},
   "outputs": [],
   "source": [
    "import plotly.graph_objects as go\n",
    "\n",
    "# Load stocks data from plotly\n",
    "df_stock = px.data.stocks()\n",
    "\n",
    "# Plot Single data in a single plot\n",
    "px.line(\n",
    "    df_stock, # data\n",
    "    x='date', # x axis\n",
    "    y='GOOG', # y axis\n",
    "    labels={\n",
    "        'x' : 'Date', # x label\n",
    "        'y' : 'Price' # y label\n",
    "    })\n",
    "\n",
    "# Plot Multiple data in a single plot\n",
    "px.line(\n",
    "    df_stock,\n",
    "    x = 'date',\n",
    "    y = ['GOOG','AAPL'],\n",
    "    labels={\n",
    "        'x' : 'Date', # x label\n",
    "        'y' : 'Price' # y label\n",
    "    },\n",
    "    title='Apple vs Google'\n",
    ")"
   ]
  },
  {
   "cell_type": "markdown",
   "metadata": {},
   "source": [
    "**Complex** - gives you more control and complex configurations"
   ]
  },
  {
   "cell_type": "code",
   "execution_count": null,
   "metadata": {},
   "outputs": [],
   "source": [
    "fig = go.Figure() # Empty canvas\n",
    "\n",
    "# Your Paintbrush\n",
    "fig.add_trace(\n",
    "    go.Scatter(\n",
    "        x=df_stock['date'],\n",
    "        y=df_stock['AAPL'],\n",
    "        mode='lines',\n",
    "        name='Apple')\n",
    "        )\n",
    "\n",
    "fig.add_trace(\n",
    "    go.Scatter(\n",
    "        x=df_stock['date'],\n",
    "        y=df_stock['AMZN'],\n",
    "        mode='lines+markers',\n",
    "        name='Amazon')\n",
    "        )\n",
    "\n",
    "fig.add_trace(\n",
    "    go.Scatter(\n",
    "        x=df_stock['date'],\n",
    "        y=df_stock['GOOG'],\n",
    "        mode='lines+markers',\n",
    "        name='Google',\n",
    "        line=dict(color='firebrick', width=2, dash='dashdot'))\n",
    "        )\n",
    "\n",
    "# # Simple Update\n",
    "# fig.update_layout(\n",
    "#     title='Stock Price Data 2018 - 2020',\n",
    "#     xaxis_title = 'Price',\n",
    "#     yaxis_title = 'Date')\n",
    "\n",
    "# # Complex Update\n",
    "fig.update_layout(\n",
    "    xaxis=dict(\n",
    "        showline=True,\n",
    "        showgrid=False,\n",
    "        showticklabels=True,\n",
    "        linecolor='rgb(204,204,204)',\n",
    "        linewidth=22,\n",
    "        ticks='outside',\n",
    "        tickfont=dict(\n",
    "            family='Arial', \n",
    "            size=12,\n",
    "            color='rgb(82,82,82)')\n",
    "        ),\n",
    "    yaxis=dict(\n",
    "        showgrid=False,\n",
    "        zeroline=False,\n",
    "        showline=False,\n",
    "        showticklabels=False,\n",
    "        ),\n",
    "    autosize=False,\n",
    "    margin=dict(\n",
    "        autoexpand=False,\n",
    "        l=100,\n",
    "        r=20,\n",
    "    ),\n",
    "    showlegend=False,\n",
    "    plot_bgcolor='white'  \n",
    ")"
   ]
  },
  {
   "cell_type": "markdown",
   "metadata": {},
   "source": [
    "### **Bar Charts**"
   ]
  },
  {
   "cell_type": "code",
   "execution_count": null,
   "metadata": {},
   "outputs": [],
   "source": [
    "df_us = px.data.gapminder().query(\"country == 'United States'\")\n",
    "\n",
    "px.bar(\n",
    "    df_us,\n",
    "    x='year',\n",
    "    y='pop',\n",
    "    title = 'US Population'\n",
    "    )"
   ]
  },
  {
   "cell_type": "code",
   "execution_count": null,
   "metadata": {},
   "outputs": [],
   "source": [
    "df_tips = px.data.tips()\n",
    "px.bar(\n",
    "    df_tips,\n",
    "    x='tip',\n",
    "    y='day',\n",
    "    color='sex',\n",
    "    title='Tips by Sex on Each Day',\n",
    "    labels={\n",
    "        'tip' : 'Tip Amount' ,\n",
    "        'day' : 'Day of the Week'\n",
    "    },\n",
    ").show() # Print statement but for graphs"
   ]
  },
  {
   "cell_type": "code",
   "execution_count": null,
   "metadata": {},
   "outputs": [],
   "source": [
    "px.bar(df_tips,\n",
    "       x = 'sex',\n",
    "       y = 'total_bill',\n",
    "       color = 'smoker',\n",
    "       barmode='group',\n",
    "       labels= {\n",
    "           'total_bill' : 'Total Bill'\n",
    "       })"
   ]
  },
  {
   "cell_type": "code",
   "execution_count": null,
   "metadata": {},
   "outputs": [],
   "source": [
    "df_europe = px.data.gapminder().query(\"continent == 'Europe' and year == 2007 and pop > 2.e6\")\n",
    "fig = px.bar(\n",
    "    df_europe,\n",
    "    y = 'pop',\n",
    "    x = 'country',\n",
    "    text='pop',\n",
    "    color = 'country'\n",
    ")\n",
    "fig.update_traces(\n",
    "    texttemplate = '%{text:.2s}',\n",
    "    textposition = 'outside',\n",
    ")\n",
    "fig.update_layout(\n",
    "    uniformtext_minsize = 8,\n",
    "    xaxis_tickangle = -45\n",
    ")"
   ]
  },
  {
   "cell_type": "markdown",
   "metadata": {},
   "source": [
    "## **Scatter Plots**"
   ]
  },
  {
   "cell_type": "code",
   "execution_count": null,
   "metadata": {},
   "outputs": [],
   "source": [
    "df_iris = px.data.iris()\n",
    "px.scatter(df_iris,\n",
    "           x='sepal_width',\n",
    "           y = 'sepal_length',\n",
    "           color = 'species',\n",
    "           size = 'petal_length',\n",
    "           hover_data=['petal_width']).show()\n",
    "\n",
    "fig1 = go.Figure()\n",
    "\n",
    "fig1.add_trace(\n",
    "    go.Scatter(\n",
    "        x=df_iris['sepal_width'],\n",
    "        y=df_iris['sepal_length'],\n",
    "        mode='markers',\n",
    "        marker_color = df_iris['sepal_width'],\n",
    "        text = df_iris['species'],\n",
    "        marker=dict(\n",
    "            showscale = True\n",
    "        )\n",
    "    )\n",
    ")\n",
    "\n",
    "fig1.update_traces(\n",
    "    marker_line_width = 2,\n",
    "    marker_size = 10\n",
    ")\n",
    "\n",
    "fig2 = go.Figure(\n",
    "    data=go.Scattergl(\n",
    "    x=np.random.randn(100000),\n",
    "    y=np.random.randn(100000),\n",
    "    mode='markers',\n",
    "    marker=dict(\n",
    "        color=np.random.randn(100000),\n",
    "        colorscale='Viridis',\n",
    "        line_width=1\n",
    "        ),\n",
    "    )\n",
    ")\n",
    "fig1.show()\n",
    "fig2.show()"
   ]
  },
  {
   "cell_type": "markdown",
   "metadata": {},
   "source": [
    "## **Pie Charts**"
   ]
  },
  {
   "cell_type": "code",
   "execution_count": null,
   "metadata": {},
   "outputs": [],
   "source": [
    "df_asia = px.data.gapminder().query(\"year == 2007\").query(\"continent == 'Asia'\")\n",
    "# df_asia.country.unique()\n",
    "f = px.pie(\n",
    "    df_asia,\n",
    "    values = 'pop',\n",
    "    names='country',\n",
    "    title='Population of Asian continent',\n",
    "    color_discrete_sequence=px.colors.sequential.RdBu\n",
    ")\n",
    "f.show()"
   ]
  },
  {
   "cell_type": "markdown",
   "metadata": {},
   "source": [
    "## **Map Scatter Plots**"
   ]
  },
  {
   "cell_type": "code",
   "execution_count": null,
   "metadata": {},
   "outputs": [],
   "source": [
    "df = px.data.gapminder().query(\"year == 2007\")\n",
    "df.head()"
   ]
  },
  {
   "cell_type": "code",
   "execution_count": null,
   "metadata": {},
   "outputs": [],
   "source": [
    "px.scatter_geo(\n",
    "    df,\n",
    "    locations='iso_alpha',\n",
    "    color = 'continent',\n",
    "    hover_name='country',\n",
    "    size = \"pop\",\n",
    "    # projection='orthographic'\n",
    "    )"
   ]
  }
 ],
 "metadata": {
  "kernelspec": {
   "display_name": "Python 3",
   "language": "python",
   "name": "python3"
  },
  "language_info": {
   "codemirror_mode": {
    "name": "ipython",
    "version": 3
   },
   "file_extension": ".py",
   "mimetype": "text/x-python",
   "name": "python",
   "nbconvert_exporter": "python",
   "pygments_lexer": "ipython3",
   "version": "3.13.0"
  }
 },
 "nbformat": 4,
 "nbformat_minor": 2
}
