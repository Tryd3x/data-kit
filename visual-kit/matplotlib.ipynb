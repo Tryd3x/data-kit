{
 "cells": [
  {
   "cell_type": "code",
   "execution_count": null,
   "metadata": {},
   "outputs": [],
   "source": [
    "import matplotlib.pyplot as plt"
   ]
  },
  {
   "cell_type": "markdown",
   "metadata": {},
   "source": [
    "## Create a subplot "
   ]
  },
  {
   "cell_type": "code",
   "execution_count": null,
   "metadata": {},
   "outputs": [],
   "source": [
    "n_cols = 5  # Set the number of columns in the grid\n",
    "n_rows = (len(num_col) + n_cols - 1) // n_cols  # Calculate the number of rows needed\n",
    "\n",
    "# Create the subplots\n",
    "fig, axes = plt.subplots(n_rows, n_cols, figsize=(12, 4 * n_rows))\n",
    "\n",
    "axes = axes.flatten()\n",
    "\n",
    "# Plot each boxplot in a separate subplot\n",
    "for i, c in enumerate(num_col):\n",
    "    sns.boxplot(data=crime_df[c], ax=axes[i])  # Specify the axis for each boxplot\n",
    "    axes[i].set_title(f\"{c}\")\n",
    "\n",
    "# Remove any unused axes if there are more subplots than columns\n",
    "for j in range(i + 1, len(axes)):\n",
    "    axes[j].axis('off') \n",
    "\n",
    "plt.tight_layout()\n",
    "plt.suptitle(\"Outlier Detection\", fontsize=16)\n",
    "plt.subplots_adjust(top=0.9)\n",
    "plt.show()"
   ]
  }
 ],
 "metadata": {
  "language_info": {
   "name": "python"
  }
 },
 "nbformat": 4,
 "nbformat_minor": 2
}
